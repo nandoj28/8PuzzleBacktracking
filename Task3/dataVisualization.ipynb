{
 "cells": [
  {
   "cell_type": "code",
   "execution_count": 1,
   "metadata": {},
   "outputs": [],
   "source": [
    "from dataset import Dataset"
   ]
  },
  {
   "cell_type": "code",
   "execution_count": 2,
   "metadata": {},
   "outputs": [
    {
     "name": "stdout",
     "output_type": "stream",
     "text": [
      "   pixel1  pixel2  pixel3    pixel4    pixel5  pixel6  pixel7    pixel8  \\\n",
      "0     0.0     0.0     0.0  0.000000  0.000000     0.0     0.0  0.000000   \n",
      "1     0.0     0.0     0.0  0.000000  0.000000     0.0     0.0  0.000000   \n",
      "2     0.0     0.0     0.0  0.000000  0.000000     0.0     0.0  0.019608   \n",
      "3     0.0     0.0     0.0  0.003922  0.007843     0.0     0.0  0.000000   \n",
      "4     0.0     0.0     0.0  0.000000  0.000000     0.0     0.0  0.000000   \n",
      "\n",
      "   pixel9  pixel10  ...  pixel775  pixel776  pixel777  pixel778  pixel779  \\\n",
      "0     0.0      0.0  ...  0.000000       0.0       0.0  0.000000  0.000000   \n",
      "1     0.0      0.0  ...  0.000000       0.0       0.0  0.000000  0.000000   \n",
      "2     0.0      0.0  ...  0.000000       0.0       0.0  0.117647  0.168627   \n",
      "3     0.0      0.0  ...  0.011765       0.0       0.0  0.000000  0.000000   \n",
      "4     0.0      0.0  ...  0.000000       0.0       0.0  0.000000  0.000000   \n",
      "\n",
      "   pixel780  pixel781  pixel782  pixel783  pixel784  \n",
      "0  0.000000       0.0       0.0       0.0       0.0  \n",
      "1  0.000000       0.0       0.0       0.0       0.0  \n",
      "2  0.000000       0.0       0.0       0.0       0.0  \n",
      "3  0.003922       0.0       0.0       0.0       0.0  \n",
      "4  0.000000       0.0       0.0       0.0       0.0  \n",
      "\n",
      "[5 rows x 784 columns]\n",
      "0    2\n",
      "1    9\n",
      "2    6\n",
      "3    0\n",
      "4    3\n",
      "Name: label, dtype: int64\n"
     ]
    }
   ],
   "source": [
    "dataset = Dataset()\n",
    "X_train, y_train = dataset.get_train_data()\n",
    "X_test, y_test = dataset.get_test_data()\n",
    "\n",
    "print(X_train.head())\n",
    "print(y_train.head())\n"
   ]
  },
  {
   "cell_type": "code",
   "execution_count": 3,
   "metadata": {},
   "outputs": [
    {
     "data": {
      "image/png": "[encoded data removed]",
      "text/plain": [
       "<Figure size 640x480 with 1 Axes>"
      ]
     },
     "metadata": {},
     "output_type": "display_data"
    }
   ],
   "source": [
    "dataset.print_random_image()"
   ]
  }
 ],
 "metadata": {
  "kernelspec": {
   "display_name": "Python 3",
   "language": "python",
   "name": "python3"
  },
  "language_info": {
   "codemirror_mode": {
    "name": "ipython",
    "version": 3
   },
   "file_extension": ".py",
   "mimetype": "text/x-python",
   "name": "python",
   "nbconvert_exporter": "python",
   "pygments_lexer": "ipython3",
   "version": "3.12.1"
  }
 },
 "nbformat": 4,
 "nbformat_minor": 2
}
